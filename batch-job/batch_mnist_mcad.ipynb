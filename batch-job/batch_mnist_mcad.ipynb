{
 "cells": [
  {
   "cell_type": "code",
   "execution_count": null,
   "id": "f3216369-b2f4-4bbc-87e8-d6f130f2b2db",
   "metadata": {},
   "outputs": [],
   "source": [
    "!oc login --token=sha256~7gVymlwTvU58Ela9mbMpuWnx-2CGZ64z7cdIR-c9AnM --server=https://api.mini2.mydomain.com:6443"
   ]
  },
  {
   "cell_type": "markdown",
   "id": "9e375633-a44f-44ba-b48f-0ec098f1250c",
   "metadata": {},
   "source": [
    "# Create custom image"
   ]
  },
  {
   "cell_type": "code",
   "execution_count": null,
   "id": "3dc4d987-392a-4db5-b09c-291f42ee2283",
   "metadata": {},
   "outputs": [],
   "source": [
    "!oc -n huggingface new-build --name custom-mnist-image --code https://github.com/thinkahead/rhods-notebooks --context-dir batch-job/custom-image"
   ]
  },
  {
   "cell_type": "code",
   "execution_count": null,
   "id": "faf6451d-a242-4b3f-bd68-254efe0aeeef",
   "metadata": {},
   "outputs": [],
   "source": [
    "!oc wait --for=condition=complete build.build.openshift.io/custom-mnist-image-1 -n huggingface --timeout=600s"
   ]
  },
  {
   "cell_type": "code",
   "execution_count": null,
   "id": "b211ce3f-1b81-4866-a649-a9488658d663",
   "metadata": {},
   "outputs": [],
   "source": [
    "#!oc get bc,build,is,pods -n huggingface\n",
    "#!oc logs build/custom-mnist-image-1 -n huggingface\n",
    "!oc delete bc -n huggingface --selector build=custom-mnist-image"
   ]
  },
  {
   "cell_type": "markdown",
   "id": "d82768f2-4571-497d-a0fe-dfb28a73aa03",
   "metadata": {},
   "source": [
    "# Create and Submit the Job"
   ]
  },
  {
   "cell_type": "code",
   "execution_count": null,
   "id": "b55bc3ea-4ce3-49bf-bb1f-e209de8ca47a",
   "metadata": {},
   "outputs": [],
   "source": [
    "# Import pieces from codeflare-sdk\n",
    "from codeflare_sdk.cluster.auth import TokenAuthentication\n",
    "from codeflare_sdk.job.jobs import DDPJobDefinition"
   ]
  },
  {
   "cell_type": "markdown",
   "id": "9de86658",
   "metadata": {},
   "source": [
    "First, we begin by authenticating using the SDK."
   ]
  },
  {
   "cell_type": "code",
   "execution_count": null,
   "id": "614daa0c",
   "metadata": {},
   "outputs": [],
   "source": [
    "# Create authentication object for oc user permissions\n",
    "auth = TokenAuthentication(\n",
    "    token = \"sha256~7gVymlwTvU58Ela9mbMpuWnx-2CGZ64z7cdIR-c9AnM\",\n",
    "    server = \"https://api.mini2.mydomain.com:6443\",\n",
    "    skip_tls=True\n",
    ")\n",
    "auth.login()"
   ]
  },
  {
   "cell_type": "markdown",
   "id": "87d2c9b3",
   "metadata": {},
   "source": [
    "Now that we are logged in, we can directly submit our batch job (model training on two workers with four gpus each) to MCAD via torchx."
   ]
  },
  {
   "cell_type": "code",
   "execution_count": null,
   "id": "ced6ccd6-a17e-413a-a0e4-65004fc35463",
   "metadata": {
    "scrolled": true
   },
   "outputs": [],
   "source": [
    "import os\n",
    "jobdef = DDPJobDefinition(\n",
    "    name=\"mnistjob\",\n",
    "    script=\"mnist_fashion.py\",\n",
    "    scheduler_args={\"namespace\": \"huggingface\"},\n",
    "    j=\"3x1\",\n",
    "    gpu=1,\n",
    "    cpu=1,\n",
    "    memMB=8000,\n",
    "    env={'AWS_ACCESS_KEY_ID':os.environ.get('AWS_ACCESS_KEY_ID'),\n",
    "         'AWS_SECRET_ACCESS_KEY':os.environ.get('AWS_SECRET_ACCESS_KEY'),\n",
    "         'AWS_S3_ENDPOINT':os.environ.get('AWS_S3_ENDPOINT'),\n",
    "         'OUTPUT_PATH':'saved/mymodel.onnx'},\n",
    "    image=\"image-registry.openshift-image-registry.svc:5000/huggingface/custom-mnist-image:latest\"\n",
    "    #image=\"quay.io/michaelclifford/mnist-test:latest\"\n",
    ")\n",
    "job = jobdef.submit()"
   ]
  },
  {
   "cell_type": "markdown",
   "id": "ff065051",
   "metadata": {},
   "source": [
    "Now we can go ahead and look at the status and logs of our batch job."
   ]
  },
  {
   "cell_type": "code",
   "execution_count": null,
   "id": "e5c0b0da-c22e-4142-b096-407ac8aebe5e",
   "metadata": {},
   "outputs": [],
   "source": [
    "job.status()"
   ]
  },
  {
   "cell_type": "code",
   "execution_count": null,
   "id": "264c1809-de72-4acf-b0f6-e67d345640f6",
   "metadata": {},
   "outputs": [],
   "source": [
    "print(job.logs())"
   ]
  },
  {
   "cell_type": "markdown",
   "id": "5af8cd32",
   "metadata": {},
   "source": [
    "Finally, we can remove the job once complete and release/terminate the associated resources, bringing everything back to the way it was before job submission."
   ]
  },
  {
   "cell_type": "code",
   "execution_count": null,
   "id": "5f36db0f-31f6-4373-9503-dc3c1c4c3f57",
   "metadata": {},
   "outputs": [],
   "source": [
    "job.cancel()"
   ]
  },
  {
   "cell_type": "markdown",
   "id": "50cdb194-c185-425c-9314-c781bf6efc32",
   "metadata": {},
   "source": [
    "and delete the custom image if it is no longer required"
   ]
  },
  {
   "cell_type": "code",
   "execution_count": null,
   "id": "39bc81e3-d03d-4438-b20e-a99ba2c100b8",
   "metadata": {},
   "outputs": [],
   "source": [
    "!oc delete is -n huggingface --selector build=custom-mnist-image"
   ]
  },
  {
   "cell_type": "code",
   "execution_count": null,
   "id": "0d41b90e",
   "metadata": {},
   "outputs": [],
   "source": [
    "auth.logout()"
   ]
  },
  {
   "cell_type": "markdown",
   "id": "351f59e3-c7a1-43e6-bb4a-e5aab23b0d49",
   "metadata": {},
   "source": [
    "# Fetch the Fashion-MNIST dataset"
   ]
  },
  {
   "cell_type": "code",
   "execution_count": null,
   "id": "ae2c37c4-2c7e-4d36-9602-c05bfb255204",
   "metadata": {},
   "outputs": [],
   "source": [
    "!pip install scikit-learn matplotlib"
   ]
  },
  {
   "cell_type": "code",
   "execution_count": null,
   "id": "21dde167-2882-44cc-974e-546f1ab4f64a",
   "metadata": {},
   "outputs": [],
   "source": [
    "from sklearn.datasets import fetch_openml\n",
    "import numpy as np\n",
    "import json\n",
    "import requests\n",
    "X, y = fetch_openml('Fashion-MNIST', return_X_y=True, parser='auto')"
   ]
  },
  {
   "cell_type": "markdown",
   "id": "783304c9-81cb-4af7-985f-8d0b0f5830a4",
   "metadata": {},
   "source": [
    "# Predictions from onnx model served using ModelMesh"
   ]
  },
  {
   "cell_type": "code",
   "execution_count": null,
   "id": "16cf9925-bde8-4932-a979-546f1b213a5f",
   "metadata": {},
   "outputs": [],
   "source": [
    "model_name=\"mymodel\"\n",
    "\n",
    "import requests\n",
    "import json\n",
    "URL='http://modelmesh-serving.huggingface.svc.cluster.local:8008/v2/models/'+model_name+'/infer' # underscore characters are removed\n",
    "headers = {}\n",
    "payload = {\n",
    "        \"inputs\": [{ \"name\": \"input_0\", \"shape\": (20,1,28,28), \"datatype\": \"FP32\", \"data\": X.loc[0:19].values.flatten().tolist()}]\n",
    "    }\n",
    "#print(payload)\n",
    "headers = {\"content-type\": \"application/json\"}\n",
    "res = requests.post(URL, json=payload, headers=headers)\n",
    "print(res)\n",
    "#print(res.text)"
   ]
  },
  {
   "cell_type": "code",
   "execution_count": null,
   "id": "58b6b7e3-658f-4bba-832d-dcb13e454008",
   "metadata": {},
   "outputs": [],
   "source": [
    "results=np.argmax(np.array(res.json()['outputs'][0]['data']).reshape(res.json()['outputs'][0]['shape']),axis=1).tolist()"
   ]
  },
  {
   "cell_type": "code",
   "execution_count": null,
   "id": "32a2d7eb-31fa-4a97-b77f-7ddf71292392",
   "metadata": {},
   "outputs": [],
   "source": [
    "# classes of fashion mnist dataset\n",
    "classes = ['T-shirt/top','Trouser','Pullover','Dress','Coat','Sandal','Shirt','Sneaker','Bag','Ankle Boot']\n",
    "# plotting the results\n",
    "fig = plt.figure(figsize=(25,4))\n",
    "for imagenum in range(20):\n",
    "    expected=int(y.iloc[imagenum])\n",
    "    actual=results[imagenum]\n",
    "    ax = fig.add_subplot(2, 10, imagenum+1, xticks=[], yticks=[])\n",
    "    ax.imshow(np.array(X.iloc[imagenum, 0:]).reshape((28, 28)), cmap='gray')\n",
    "    ax.set_title(\"{} ({})\".format(classes[expected], classes[actual]),color=(\"green\" if expected==actual else \"red\"))"
   ]
  },
  {
   "cell_type": "markdown",
   "id": "53e72fd9-6b26-4982-aabd-49fb88d846b6",
   "metadata": {},
   "source": [
    "# Submit gRPC request to the ModelMesh for batch of samples"
   ]
  },
  {
   "cell_type": "code",
   "execution_count": null,
   "id": "53c42ba1-3cb2-4845-9fe0-84bb4a420711",
   "metadata": {},
   "outputs": [],
   "source": [
    "!wget https://raw.githubusercontent.com/kserve/modelmesh-serving/main/fvt/proto/kfs_inference_v2.proto\n",
    "!python3 -m grpc_tools.protoc -I. --python_out=. --grpc_python_out=. ./kfs_inference_v2.proto"
   ]
  },
  {
   "cell_type": "code",
   "execution_count": null,
   "id": "a36627c0-32e2-489a-8fbd-cfa7fb85c948",
   "metadata": {},
   "outputs": [],
   "source": [
    "model_name=\"mymodel\"\n",
    "payload = { \"model_name\": model_name,\n",
    "            \"inputs\": [{ \"name\": \"input_0\", \"shape\": (5,1,28,28), \"datatype\": \"FP32\", \"contents\": {\"fp32_contents\":X.loc[0:4].values.flatten().tolist()}}]\n",
    "    }"
   ]
  },
  {
   "cell_type": "code",
   "execution_count": null,
   "id": "2dac1954-45a0-46b3-bd60-366bc04fa9aa",
   "metadata": {},
   "outputs": [],
   "source": [
    "import grpc\n",
    "import kfs_inference_v2_pb2, kfs_inference_v2_pb2_grpc\n",
    "grpc_url=\"modelmesh-serving.huggingface.svc.cluster.local:8033\"\n",
    "request=kfs_inference_v2_pb2.ModelInferRequest(model_name=model_name,inputs=payload[\"inputs\"])\n",
    "grpc_channel = grpc.insecure_channel(grpc_url)\n",
    "grpc_stub = kfs_inference_v2_pb2_grpc.GRPCInferenceServiceStub(grpc_channel)\n",
    "response = grpc_stub.ModelInfer(request)"
   ]
  },
  {
   "cell_type": "code",
   "execution_count": null,
   "id": "d0c38e9a-c9d5-4001-9f5a-00fde3cf7883",
   "metadata": {},
   "outputs": [],
   "source": [
    "print(type(response.outputs),type(response.raw_output_contents))\n",
    "from google.protobuf.json_format import MessageToDict\n",
    "d = MessageToDict(response.outputs[0])\n",
    "print(d)\n",
    "binary_data=bytes([x for x in response.raw_output_contents[0]])"
   ]
  },
  {
   "cell_type": "code",
   "execution_count": null,
   "id": "fac2df58-fc96-4717-82c7-75d4be9ee694",
   "metadata": {},
   "outputs": [],
   "source": [
    "import struct\n",
    "import base64\n",
    "FLOAT = 'f'\n",
    "fmt = '<' + FLOAT * (len(binary_data) // struct.calcsize(FLOAT))\n",
    "numbers = [str(n) for n in np.argmax(np.array(struct.unpack(fmt, binary_data)).reshape(*[int(shapeval) for shapeval in d['shape']]),axis=1)]\n",
    "print(\"Expected\",y[0:5].values.tolist(),\"Actual\",numbers)"
   ]
  },
  {
   "cell_type": "code",
   "execution_count": null,
   "id": "b05ba5cb-c405-44e8-b398-de0af33c8d2b",
   "metadata": {},
   "outputs": [],
   "source": []
  }
 ],
 "metadata": {
  "kernelspec": {
   "display_name": "Python 3.8.13",
   "language": "python",
   "name": "python3"
  },
  "language_info": {
   "codemirror_mode": {
    "name": "ipython",
    "version": 3
   },
   "file_extension": ".py",
   "mimetype": "text/x-python",
   "name": "python",
   "nbconvert_exporter": "python",
   "pygments_lexer": "ipython3",
   "version": "3.8.13"
  },
  "vscode": {
   "interpreter": {
    "hash": "ae72ec8d55aeb4773d9bab14ab14ec6c410f2dd8be83850b7c2732f479ead773"
   }
  }
 },
 "nbformat": 4,
 "nbformat_minor": 5
}
