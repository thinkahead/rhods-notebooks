{
 "cells": [
  {
   "cell_type": "code",
   "execution_count": 23,
   "id": "27aaf0cf-7cfa-42fe-8559-c035f63e5760",
   "metadata": {},
   "outputs": [
    {
     "name": "stdout",
     "output_type": "stream",
     "text": [
      "# Job name and namespace\n",
      "namespace: mcad-testing\n",
      "jobName: mnist-training\n",
      "priority: \"default-priority\"\n",
      "\n",
      "# Container image to be used\n",
      "containerImage: ghcr.io/foundation-model-stack/base:pytorch-latest-nightly-20230126\n",
      "\n",
      "# Runtime hardware specificiation\n",
      "numPods: 3\n",
      "numCpusPerPod: 1\n",
      "numGpusPerPod: 0\n",
      "totalMemoryPerPod: 1Gi\n",
      "\n",
      "# Environment\n",
      "environmentVariables:\n",
      "    - name: HF_DATASETS_CACHE\n",
      "      value: \"/data/.cache/huggingface\"\n",
      "\n",
      "# Commands\n",
      "setupCommands:\n",
      "    - git clone https://github.com/metalcycling/mnist-distributed-training\n",
      "    - cd mnist-distributed-training\n",
      "\n",
      "mainProgram: mnist.py\n",
      "\n",
      "# Volumes\n",
      "volumes:\n",
      "    - name: scratch\n",
      "      claimName: mcad-testing-pvc\n",
      "      mountPath: \"/data\"\n"
     ]
    }
   ],
   "source": [
    "!cat mnist.yaml"
   ]
  },
  {
   "cell_type": "code",
   "execution_count": 10,
   "id": "3dff913f-915c-4a24-9f19-11fec3530654",
   "metadata": {},
   "outputs": [
    {
     "name": "stdout",
     "output_type": "stream",
     "text": [
      "  % Total    % Received % Xferd  Average Speed   Time    Time     Time  Current\n",
      "                                 Dload  Upload   Total   Spent    Left  Speed\n",
      "100 13.8M  100 13.8M    0     0  26.5M      0 --:--:-- --:--:-- --:--:-- 26.4M\n"
     ]
    }
   ],
   "source": [
    "!curl -o helm-v3.10.2-linux-amd64.tar.gz https://get.helm.sh/helm-v3.10.2-linux-amd64.tar.gz"
   ]
  },
  {
   "cell_type": "code",
   "execution_count": 3,
   "id": "5f52a760-9a9d-4136-bbbc-12edcfbbcdd8",
   "metadata": {},
   "outputs": [
    {
     "name": "stdout",
     "output_type": "stream",
     "text": [
      "linux-amd64/\n",
      "linux-amd64/helm\n",
      "linux-amd64/LICENSE\n",
      "linux-amd64/README.md\n"
     ]
    }
   ],
   "source": [
    "!tar -zxvf helm-v3.10.2-linux-amd64.tar.gz"
   ]
  },
  {
   "cell_type": "code",
   "execution_count": 11,
   "id": "1a19fa23-ca00-4fbe-a332-9ecef2df0684",
   "metadata": {},
   "outputs": [],
   "source": [
    "!rm -f helm-v3.10.2-linux-amd64.tar.gz"
   ]
  },
  {
   "cell_type": "code",
   "execution_count": 21,
   "id": "2230ccd6-f5de-4d45-84ec-8845996d9280",
   "metadata": {},
   "outputs": [
    {
     "name": "stdout",
     "output_type": "stream",
     "text": [
      "WARNING: Using insecure TLS client config. Setting this option is not supported!\n",
      "\n",
      "Logged into \"https://api.mini2.mydomain.com:6443\" as \"kube:admin\" using the token provided.\n",
      "\n",
      "You have access to 108 projects, the list has been suppressed. You can list all projects with 'oc projects'\n",
      "\n",
      "Using project \"cybersecurity\".\n"
     ]
    }
   ],
   "source": [
    "!oc login --token=sha256~EC9CYq1taPT9QZ99tLpNPkH2QLjolvSdL0-Zja4p-Z0 --server=https://api.mini2.mydomain.com:6443"
   ]
  },
  {
   "cell_type": "code",
   "execution_count": 33,
   "id": "2b7310d7-bdf1-4c51-87e2-af081449c5ea",
   "metadata": {},
   "outputs": [
    {
     "name": "stdout",
     "output_type": "stream",
     "text": [
      "Release \"mnist-training\" has been upgraded. Happy Helming!\n",
      "NAME: mnist-training\n",
      "LAST DEPLOYED: Sat Mar 11 16:41:21 2023\n",
      "NAMESPACE: mcad-testing\n",
      "STATUS: deployed\n",
      "REVISION: 15\n",
      "TEST SUITE: None\n"
     ]
    }
   ],
   "source": [
    "!linux-amd64/helm upgrade -n mcad-testing --install --wait -f mnist.yaml mnist-training ../../chart"
   ]
  },
  {
   "cell_type": "code",
   "execution_count": null,
   "id": "da63fe0d-3237-4270-876c-1bdaabf8ac39",
   "metadata": {},
   "outputs": [],
   "source": [
    "# oc describe appwrapper.mcad.ibm.com/mnist-training -n mcad-testing\n",
    "# watch oc get appwrapper,pytorchjob,pods,pvc -n mcad-testing"
   ]
  },
  {
   "cell_type": "code",
   "execution_count": 20,
   "id": "41da17f8-c485-43d0-981a-5671aa3beffb",
   "metadata": {},
   "outputs": [
    {
     "name": "stdout",
     "output_type": "stream",
     "text": [
      "appwrapper.mcad.ibm.com \"mnist-training\" deleted\n"
     ]
    }
   ],
   "source": [
    "!oc delete appwrapper.mcad.ibm.com/mnist-training -n mcad-testing"
   ]
  },
  {
   "cell_type": "code",
   "execution_count": null,
   "id": "13792759-5fb7-45cc-8e84-1fe37980cd5e",
   "metadata": {},
   "outputs": [],
   "source": []
  }
 ],
 "metadata": {
  "kernelspec": {
   "display_name": "Python 3.8.13",
   "language": "python",
   "name": "python3"
  },
  "language_info": {
   "codemirror_mode": {
    "name": "ipython",
    "version": 3
   },
   "file_extension": ".py",
   "mimetype": "text/x-python",
   "name": "python",
   "nbconvert_exporter": "python",
   "pygments_lexer": "ipython3",
   "version": "3.8.13"
  }
 },
 "nbformat": 4,
 "nbformat_minor": 5
}
